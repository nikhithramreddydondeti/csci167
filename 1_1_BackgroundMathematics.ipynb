1. linear_function_1D
def linear_function_1D(x, beta, omega):
    return beta + omega * x

2. linear_function_2D
def linear_function_2D(x1, x2, beta, omega1, omega2):
    return beta + omega1 * x1 + omega2 * x2

3. linear_function_3D
def linear_function_3D(x1, x2, x3, beta, omega1, omega2, omega3):
    return beta + omega1 * x1 + omega2 * x2 + omega3 * x3

4. Plot a 1D line (cross y=10, x=5)
import numpy as np
import matplotlib.pyplot as plt

x = np.arange(0.0, 10.0, 0.01)
beta = 10.0
omega = -2.0
y = linear_function_1D(x, beta, omega)

plt.plot(x, y)
plt.xlabel("x")
plt.ylabel("y")
plt.title("1D Linear Function: Crosses y=10 and x=5")
plt.grid(True)
plt.show()

5. Plot a 2D Linear Function
x1 = np.arange(0.0, 10.0, 0.1)
x2 = np.arange(0.0, 10.0, 0.1)
x1, x2 = np.meshgrid(x1, x2)

beta = 0.0
omega1 = 1.0
omega2 = -0.5

y = linear_function_2D(x1, x2, beta, omega1, omega2)

def draw_2D_function(x1_mesh, x2_mesh, y):
    fig, ax = plt.subplots()
    fig.set_size_inches(7, 7)
    pos = ax.contourf(x1_mesh, x2_mesh, y, levels=256, cmap='hot', vmin=-10, vmax=10.0)
    fig.colorbar(pos, ax=ax)
    ax.contour(x1_mesh, x2_mesh, y, np.arange(-10, 10, 1.0), cmap='winter')
    ax.set_xlabel("x1")
    ax.set_ylabel("x2")
    plt.title("2D Linear Function")
    plt.grid(True)
    plt.show()

draw_2D_function(x1, x2, y)
